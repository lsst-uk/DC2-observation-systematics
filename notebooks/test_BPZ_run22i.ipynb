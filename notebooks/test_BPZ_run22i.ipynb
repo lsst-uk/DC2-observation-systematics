{
 "cells": [
  {
   "cell_type": "markdown",
   "id": "6a159501-2584-4231-9533-43809421d6fd",
   "metadata": {},
   "source": [
    "# Test of running BPZ_lite on some data with big DC2 set of 229 templats\n",
    "\n",
    "You need to do a few steps to get things working in order to run this notebook:\n",
    "1. Log into cori on the command line\n",
    "2. do a `module load python` to load the conda environment\n",
    "3. create a custom conda environment with `conda create -n [name for your env] python=3.9 ipykernel`\n",
    "4. cd to `/global/cfs/cdirs/lsst/groups/PZ/users/sschmidt/BPZ_RAIL_TEST/DESC_BPZ`\n",
    "5. run `python setup.py install --user` to install DESC_BPZ\n",
    "6. (Maybe unnecessary but couldn't hurt) run the command `export PYTHONPATH=/global/cfs/cdirs/lsst/groups/PZ/users/sschmidt/BPZ_RAIL_TEST/DESC_BPZ:$PYTHONPATH` to make sure that it is grabbing this copy of DESC_BPZ (which has a few extra files that haven't been merged into the main DESC_BPZ yet)\n",
    "7. cd to `/global/cfs/cdirs/lsst/groups/PZ/users/sschmidt/BPZ_RAIL_TEST/RAIL`\n",
    "8. run `pip install .[base]` to install RAIL\n",
    "9.  To add your new kernel as one available to be run on Jupyter Hub at NERSC, run the command `python -m ipykernel install --user --name bpzrailpy39` to create a kernel named \"bpzrailpy39\".  This kernel should then be available as an option when you log in to Jupyter Hub at NERSC"
   ]
  },
  {
   "cell_type": "markdown",
   "id": "a905a8fa-7a69-49e2-a3a7-55ab64f3fe2b",
   "metadata": {},
   "source": [
    "Stupid NERSC pathing, because I start above with the NERSC conda module, some of the software is already installed in /global/common/cori_cle7/software/python/3.9-anaconda-2021.11/lib/python3.9/site-packages, so we'll add that path below.  Also, NERSC installs some data in your .local site packages, so you'll need to add that path as well!\n",
    "\n",
    "\n",
    "So, in the cell below, \n",
    "\n",
    "10. change the `sys.path.insert` with schmidt9/.local to the local directory where conda copies your site-packates.  It's most likely the same path but with your username in place of \"schmidt9\""
   ]
  },
  {
   "cell_type": "markdown",
   "id": "c631233b-8e1a-461e-be0b-0d8d15fa376b",
   "metadata": {},
   "source": [
    "#### Note: this notebook is originally written by Sam Schimdt; some parts modified"
   ]
  },
  {
   "cell_type": "code",
   "execution_count": 1,
   "id": "960289ee-d485-4f1e-a4f1-6bd0fd6f9b67",
   "metadata": {},
   "outputs": [],
   "source": [
    "import sys\n",
    "sys.path.insert(0, \"/global/cfs/cdirs/lsst/groups/PZ/users/sschmidt/BPZ_RAIL_TEST/DESC_BPZ\")\n",
    "sys.path.insert(0, \"/global/cfs/cdirs/lsst/groups/PZ/users/sschmidt/BPZ_RAIL_TEST/RAIL\")\n",
    "sys.path.insert(0, \"/global/cfs/cdirs/lsst/groups/PZ/users/sschmidt/BPZ_RAIL_TEST/qp\")\n",
    "sys.path.insert(0, \"/global/cfs/cdirs/lsst/groups/PZ/users/sschmidt/BPZ_RAIL_TEST/tables_io\")\n",
    "########\n",
    "#MODIFY THIS PATH TO POINT TO YOUR LOCAL INSTALL DIRECTORY!\n",
    "#sys.path.insert(0,\"/global/homes/s/schmidt9/.local/cori/3.9-anaconda-2021.11/lib/python3.9/site-packages\")\n",
    "sys.path.insert(0,\"/global/homes/q/qhang/.local/cori/3.9-anaconda-2021.11/lib/python3.9/site-packages\")\n",
    "#########\n",
    "sys.path.insert(0,\"/global/common/cori_cle7/software/python/3.9-anaconda-2021.11/lib/python3.9/site-packages\")\n",
    "#let's set the path to DESC_BPZ here just to be absolutely sure, as we want to grab the specific prior file that I placed here"
   ]
  },
  {
   "cell_type": "code",
   "execution_count": 2,
   "id": "0167125b-8a3d-4eea-ba1b-100c206f4577",
   "metadata": {},
   "outputs": [
    {
     "name": "stdout",
     "output_type": "stream",
     "text": [
      "estimator delightPZ not installed\n"
     ]
    }
   ],
   "source": [
    "import os\n",
    "import tables_io\n",
    "import rail\n",
    "import qp\n",
    "import numpy as np\n",
    "import pandas as pd\n",
    "import matplotlib.pyplot as plt\n",
    "%matplotlib inline"
   ]
  },
  {
   "cell_type": "markdown",
   "id": "579ee525-1f65-49a2-aaad-3d48519a4d34",
   "metadata": {},
   "source": [
    "# Data\n",
    "Start by reading in some run2.2i_dr2 data that we grabbed in the `make_run22i_dr2_test_data.ipynb`"
   ]
  },
  {
   "cell_type": "code",
   "execution_count": 4,
   "id": "02cd1485-9562-400e-8d26-f450a7b8e959",
   "metadata": {},
   "outputs": [],
   "source": [
    "inroot = '/global/cfs/cdirs/lsst/groups/PZ/users/sschmidt/BPZ_RAIL_TEST/'\n",
    "inputdata = tables_io.read(inroot+\"run2.2i_dr2_tract3450_testdata.pq\")"
   ]
  },
  {
   "cell_type": "code",
   "execution_count": 5,
   "id": "21cf3c88-5281-47ab-bf12-46d2ad4e9bf5",
   "metadata": {},
   "outputs": [
    {
     "name": "stdout",
     "output_type": "stream",
     "text": [
      "<class 'pandas.core.frame.DataFrame'>\n",
      "Int64Index: 89093 entries, 0 to 640512\n",
      "Data columns (total 23 columns):\n",
      " #   Column              Non-Null Count  Dtype  \n",
      "---  ------              --------------  -----  \n",
      " 0   extendedness        89093 non-null  float64\n",
      " 1   blendedness         89093 non-null  float64\n",
      " 2   magerr_u_cModel     84405 non-null  float64\n",
      " 3   mag_z_cModel        88911 non-null  float64\n",
      " 4   magerr_i_cModel     89093 non-null  float64\n",
      " 5   mag_i_cModel        89093 non-null  float64\n",
      " 6   mag_g_cModel        88890 non-null  float64\n",
      " 7   mag_r_cModel        88988 non-null  float64\n",
      " 8   magerr_g_cModel     88888 non-null  float64\n",
      " 9   magerr_z_cModel     88913 non-null  float64\n",
      " 10  mag_y_cModel        88974 non-null  float64\n",
      " 11  ra                  89093 non-null  float64\n",
      " 12  dec                 89093 non-null  float64\n",
      " 13  magerr_r_cModel     88988 non-null  float64\n",
      " 14  magerr_y_cModel     89045 non-null  float64\n",
      " 15  mag_u_cModel        81541 non-null  float64\n",
      " 16  ebv                 89093 non-null  float32\n",
      " 17  mag_u_cModel_dered  81541 non-null  float64\n",
      " 18  mag_g_cModel_dered  88890 non-null  float64\n",
      " 19  mag_r_cModel_dered  88988 non-null  float64\n",
      " 20  mag_i_cModel_dered  89093 non-null  float64\n",
      " 21  mag_z_cModel_dered  88911 non-null  float64\n",
      " 22  mag_y_cModel_dered  88974 non-null  float64\n",
      "dtypes: float32(1), float64(22)\n",
      "memory usage: 16.0 MB\n"
     ]
    }
   ],
   "source": [
    "inputdata.info()"
   ]
  },
  {
   "cell_type": "markdown",
   "id": "e1dfd147-af71-4d04-9e42-5e2834ea1b66",
   "metadata": {},
   "source": [
    "# setting up data in the data store\n",
    "start by adding a *subset* to the DataStore, once we set that up, we'll take 1/9th of the data for ~10,000 galaxies"
   ]
  },
  {
   "cell_type": "code",
   "execution_count": 6,
   "id": "ca2e4a91-1f09-4acd-af81-095d6dc491f8",
   "metadata": {},
   "outputs": [
    {
     "name": "stdout",
     "output_type": "stream",
     "text": [
      "<class 'pandas.core.frame.DataFrame'>\n",
      "Int64Index: 9900 entries, 0 to 640357\n",
      "Data columns (total 23 columns):\n",
      " #   Column              Non-Null Count  Dtype  \n",
      "---  ------              --------------  -----  \n",
      " 0   extendedness        9900 non-null   float64\n",
      " 1   blendedness         9900 non-null   float64\n",
      " 2   magerr_u_cModel     9406 non-null   float64\n",
      " 3   mag_z_cModel        9875 non-null   float64\n",
      " 4   magerr_i_cModel     9900 non-null   float64\n",
      " 5   mag_i_cModel        9900 non-null   float64\n",
      " 6   mag_g_cModel        9876 non-null   float64\n",
      " 7   mag_r_cModel        9892 non-null   float64\n",
      " 8   magerr_g_cModel     9879 non-null   float64\n",
      " 9   magerr_z_cModel     9876 non-null   float64\n",
      " 10  mag_y_cModel        9885 non-null   float64\n",
      " 11  ra                  9900 non-null   float64\n",
      " 12  dec                 9900 non-null   float64\n",
      " 13  magerr_r_cModel     9892 non-null   float64\n",
      " 14  magerr_y_cModel     9891 non-null   float64\n",
      " 15  mag_u_cModel        9063 non-null   float64\n",
      " 16  ebv                 9900 non-null   float32\n",
      " 17  mag_u_cModel_dered  9063 non-null   float64\n",
      " 18  mag_g_cModel_dered  9876 non-null   float64\n",
      " 19  mag_r_cModel_dered  9892 non-null   float64\n",
      " 20  mag_i_cModel_dered  9900 non-null   float64\n",
      " 21  mag_z_cModel_dered  9875 non-null   float64\n",
      " 22  mag_y_cModel_dered  9885 non-null   float64\n",
      "dtypes: float32(1), float64(22)\n",
      "memory usage: 1.8 MB\n"
     ]
    }
   ],
   "source": [
    "smalldata = inputdata[::9]\n",
    "smalldata.info()"
   ]
  },
  {
   "cell_type": "code",
   "execution_count": 7,
   "id": "4c7abd9b-593d-48a6-b082-4d199a6496cf",
   "metadata": {},
   "outputs": [],
   "source": [
    "xtest_data = tables_io.convert(smalldata, tables_io.types.NUMPY_DICT)"
   ]
  },
  {
   "cell_type": "code",
   "execution_count": 9,
   "id": "069c1927-4b4b-4371-ae7d-c4e0d1eff369",
   "metadata": {
    "collapsed": true,
    "jupyter": {
     "outputs_hidden": true
    },
    "tags": []
   },
   "outputs": [
    {
     "data": {
      "text/plain": [
       "OrderedDict([('extendedness', array([1., 1., 1., ..., 1., 1., 1.])),\n",
       "             ('blendedness',\n",
       "              array([0.00000000e+00, 0.00000000e+00, 0.00000000e+00, ...,\n",
       "                     4.80962123e-05, 2.90147235e-04, 7.11368463e-07])),\n",
       "             ('magerr_u_cModel',\n",
       "              array([ 0.47875334,  1.38144173,  0.16529846, ..., -0.85881331,\n",
       "                      0.3656084 ,  0.02407504])),\n",
       "             ('mag_z_cModel',\n",
       "              array([23.42043298, 22.22403922, 22.31729021, ..., 20.22364572,\n",
       "                     22.65296762, 19.35838622])),\n",
       "             ('magerr_i_cModel',\n",
       "              array([0.04055852, 0.02226778, 0.02474736, ..., 0.00628354, 0.03066676,\n",
       "                     0.00297524])),\n",
       "             ('mag_i_cModel',\n",
       "              array([23.47946153, 22.50099473, 22.53255588, ..., 20.61947629,\n",
       "                     23.17186784, 19.64490474])),\n",
       "             ('mag_g_cModel',\n",
       "              array([24.69731805, 23.87903338, 24.04089038, ..., 23.11319867,\n",
       "                     24.88460159, 21.21766285])),\n",
       "             ('mag_r_cModel',\n",
       "              array([24.22851047, 22.91210385, 22.95426293, ..., 21.40140188,\n",
       "                     24.12043223, 20.21262904])),\n",
       "             ('magerr_g_cModel',\n",
       "              array([0.07169951, 0.05054358, 0.04687054, ..., 0.03327824, 0.1131999 ,\n",
       "                     0.00716995])),\n",
       "             ('magerr_z_cModel',\n",
       "              array([0.11123284, 0.05294877, 0.05827934, ..., 0.01141937, 0.06468119,\n",
       "                     0.00580738])),\n",
       "             ('mag_y_cModel',\n",
       "              array([23.26644229, 21.88905596, 22.22983286, ..., 19.95434342,\n",
       "                     22.67612719, 19.19838695])),\n",
       "             ('ra',\n",
       "              array([67.61188894, 67.54501672, 67.48587312, ..., 65.72229974,\n",
       "                     65.74147468, 65.72678223])),\n",
       "             ('dec',\n",
       "              array([-40.1648031 , -40.15902757, -40.15510113, ..., -38.68039237,\n",
       "                     -38.67919267, -38.67776035])),\n",
       "             ('magerr_r_cModel',\n",
       "              array([0.04978317, 0.01915576, 0.02212994, ..., 0.00989495, 0.05383106,\n",
       "                     0.00372203])),\n",
       "             ('magerr_y_cModel',\n",
       "              array([0.20895961, 0.07982949, 0.1126123 , ..., 0.01587968, 0.11178285,\n",
       "                     0.00864634])),\n",
       "             ('mag_u_cModel',\n",
       "              array([25.58378094, 26.45901982, 24.07611242, ...,         nan,\n",
       "                     25.26731736, 21.49419972])),\n",
       "             ('ebv',\n",
       "              array([0.02589749, 0.02615045, 0.02652185, ..., 0.02621689, 0.02654669,\n",
       "                     0.02630697], dtype=float32)),\n",
       "             ('mag_u_cModel_dered',\n",
       "              array([25.459214  , 26.33323614, 23.94854229, ...,         nan,\n",
       "                     25.13962779, 21.36766319])),\n",
       "             ('mag_g_cModel_dered',\n",
       "              array([24.60305118, 23.78384573, 23.94435083, ..., 23.01776917,\n",
       "                     24.78797165, 21.12190546])),\n",
       "             ('mag_r_cModel_dered',\n",
       "              array([24.15858724, 22.84149763, 22.88265393, ..., 21.33061626,\n",
       "                     24.04875617, 20.14160021])),\n",
       "             ('mag_i_cModel_dered',\n",
       "              array([23.42611269, 22.44712479, 22.47792086, ..., 20.56546949,\n",
       "                     23.11718166, 19.59071238])),\n",
       "             ('mag_z_cModel_dered',\n",
       "              array([23.37951494, 22.1827215 , 22.27538568, ..., 20.18222303,\n",
       "                     22.61102385, 19.3168212 ])),\n",
       "             ('mag_y_cModel_dered',\n",
       "              array([23.23251658, 21.85479886, 22.19508924, ..., 19.91999929,\n",
       "                     22.64135103, 19.16392481]))])"
      ]
     },
     "execution_count": 9,
     "metadata": {},
     "output_type": "execute_result"
    }
   ],
   "source": [
    "xtest_data"
   ]
  },
  {
   "cell_type": "code",
   "execution_count": 39,
   "id": "01db492f-3f8b-49e5-867c-7e607303302b",
   "metadata": {},
   "outputs": [],
   "source": [
    "#import RailStage stuff\n",
    "from rail.core.data import TableHandle\n",
    "from rail.core.stage import RailStage\n",
    "DS = RailStage.data_store\n",
    "DS.__class__.allow_overwrite = True"
   ]
  },
  {
   "cell_type": "code",
   "execution_count": 10,
   "id": "d8af5fe3-5473-4144-9c33-22cc5eccdffb",
   "metadata": {},
   "outputs": [],
   "source": [
    "test_data = DS.add_data(\"test_data\", xtest_data, TableHandle )"
   ]
  },
  {
   "cell_type": "code",
   "execution_count": 11,
   "id": "85913296-1c64-4001-a925-a644708039c5",
   "metadata": {},
   "outputs": [
    {
     "data": {
      "text/plain": [
       "DataStore\n",
       "{  test_data:<class 'rail.core.data.TableHandle'> None, (d)\n",
       "}"
      ]
     },
     "execution_count": 11,
     "metadata": {},
     "output_type": "execute_result"
    }
   ],
   "source": [
    "DS"
   ]
  },
  {
   "cell_type": "code",
   "execution_count": 12,
   "id": "32e642da-179e-474a-91fc-9774ef568342",
   "metadata": {},
   "outputs": [],
   "source": [
    "xx=test_data.data['mag_u_cModel_dered']"
   ]
  },
  {
   "cell_type": "code",
   "execution_count": 13,
   "id": "285e415a-9136-430d-94e3-03f4613583e3",
   "metadata": {},
   "outputs": [
    {
     "name": "stdout",
     "output_type": "stream",
     "text": [
      "[25.459214   26.33323614 23.94854229 ...         nan 25.13962779\n",
      " 21.36766319]\n"
     ]
    }
   ],
   "source": [
    "print(xx)"
   ]
  },
  {
   "cell_type": "markdown",
   "id": "732c14fe-faba-45ac-91c5-bd5453cf99b0",
   "metadata": {},
   "source": [
    "# stage BPZ\n",
    "set up the stage for the BPZ run"
   ]
  },
  {
   "cell_type": "code",
   "execution_count": 45,
   "id": "22e3618b-01aa-4473-995a-8e657b0ac7e0",
   "metadata": {},
   "outputs": [],
   "source": [
    "from rail.estimation.algos.bpz_lite import BPZ_lite"
   ]
  },
  {
   "cell_type": "code",
   "execution_count": 16,
   "id": "dbbd5762-2acb-4a2f-9863-edfb9da0586e",
   "metadata": {},
   "outputs": [],
   "source": [
    "#mag limits for Y2 data will actually be shallower!  Should update those numbers rather than just copying the Y10 numbers!\n",
    "estimate_bpz = BPZ_lite.make_stage(name='estimate_bpz', hdf5_groupname='', columns_file=inroot+'bpz_run22i_dered.columns',\n",
    "                                   nondetect_val=np.nan, spectra_file='SED/dc2_templates_v4.list',\n",
    "                                  band_names=['mag_u_cModel_dered','mag_g_cModel_dered','mag_r_cModel_dered','mag_i_cModel_dered','mag_z_cModel_dered','mag_y_cModel_dered'],\n",
    "                                  band_err_names=['magerr_u_cModel','magerr_g_cModel','magerr_r_cModel',\n",
    "                                                  'magerr_i_cModel','magerr_z_cModel','magerr_y_cModel'],\n",
    "                                  prior_band='mag_i_cModel_dered',\n",
    "                                  mag_limits = dict(mag_u_cModel_dered=27.79,\n",
    "                                                    mag_g_cModel_dered=29.04,\n",
    "                                                    mag_r_cModel_dered=29.06,\n",
    "                                                    mag_i_cModel_dered=28.62,\n",
    "                                                    mag_z_cModel_dered=27.98,\n",
    "                                                    mag_y_cModel_dered=27.05),\n",
    "                                  output=\"test_BPZ_run2.2i_dr2_qpens.hdf5\")"
   ]
  },
  {
   "cell_type": "code",
   "execution_count": 17,
   "id": "529c4996-ebfc-4d9f-9de7-f37a9a7e94c1",
   "metadata": {},
   "outputs": [
    {
     "name": "stdout",
     "output_type": "stream",
     "text": [
      "Inserting handle into data store.  output_estimate_bpz: inprogress_test_BPZ_run2.2i_dr2_qpens.hdf5, estimate_bpz\n",
      "CPU times: user 2min 55s, sys: 126 ms, total: 2min 55s\n",
      "Wall time: 2min 55s\n"
     ]
    }
   ],
   "source": [
    "%%time\n",
    "bpz_estimated = estimate_bpz.estimate(test_data)"
   ]
  },
  {
   "cell_type": "code",
   "execution_count": 18,
   "id": "535b7244-46c4-4da0-9bd4-33ef40399c7e",
   "metadata": {},
   "outputs": [
    {
     "data": {
      "text/plain": [
       "<rail.core.data.QPHandle at 0x15555018ffd0>"
      ]
     },
     "execution_count": 18,
     "metadata": {},
     "output_type": "execute_result"
    }
   ],
   "source": [
    "bpz_estimated"
   ]
  },
  {
   "cell_type": "code",
   "execution_count": 19,
   "id": "15c73df0-0de8-445a-bfe1-8c607e48faad",
   "metadata": {},
   "outputs": [],
   "source": [
    "zmods = bpz_estimated.data.ancil['zmode']"
   ]
  },
  {
   "cell_type": "code",
   "execution_count": 20,
   "id": "1318b3b3-c195-41c2-be11-114f22302c83",
   "metadata": {},
   "outputs": [
    {
     "data": {
      "image/png": "[encoded data removed]",
      "text/plain": [
       "<Figure size 432x288 with 1 Axes>"
      ]
     },
     "metadata": {
      "needs_background": "light"
     },
     "output_type": "display_data"
    }
   ],
   "source": [
    "plt.hist(zmods,bins=np.linspace(0,3,101));"
   ]
  },
  {
   "cell_type": "markdown",
   "id": "ce437e8b-01b0-40e6-868d-05a9086d9e57",
   "metadata": {},
   "source": [
    "# Test reading back in of BPZ data to make sure that it worked correctly!"
   ]
  },
  {
   "cell_type": "code",
   "execution_count": 21,
   "id": "1f691ec8-5dce-436b-9319-12ff1fbd1f56",
   "metadata": {},
   "outputs": [],
   "source": [
    "newens = qp.read(inroot + \"test_BPZ_run2.2i_dr2_qpens.hdf5\")"
   ]
  },
  {
   "cell_type": "code",
   "execution_count": 22,
   "id": "4a64d70e-9e0c-49c7-8dce-46ef4c91331a",
   "metadata": {},
   "outputs": [],
   "source": [
    "means = newens.mean()"
   ]
  },
  {
   "cell_type": "code",
   "execution_count": 23,
   "id": "ca9ec505-1882-4417-bbb8-7a4d89dc40b2",
   "metadata": {},
   "outputs": [
    {
     "data": {
      "image/png": "[encoded data removed]",
      "text/plain": [
       "<Figure size 432x288 with 1 Axes>"
      ]
     },
     "metadata": {
      "needs_background": "light"
     },
     "output_type": "display_data"
    }
   ],
   "source": [
    "plt.hist(means, bins=np.linspace(0,3,101));"
   ]
  },
  {
   "cell_type": "code",
   "execution_count": null,
   "id": "ce88c907-b227-4964-bde1-6383c0ac1eed",
   "metadata": {},
   "outputs": [],
   "source": []
  },
  {
   "cell_type": "markdown",
   "id": "cdfa6fea-c58b-48d9-b77a-5fa4a608eb88",
   "metadata": {},
   "source": [
    "## DC2 dr2 objects here:"
   ]
  },
  {
   "cell_type": "code",
   "execution_count": 27,
   "id": "8fef19b0-28cb-4c78-bf3f-6dfd0c27f337",
   "metadata": {},
   "outputs": [],
   "source": [
    "from astropy.io import fits"
   ]
  },
  {
   "cell_type": "code",
   "execution_count": 28,
   "id": "9818f50b-974f-4cbe-b73b-7c000223dad3",
   "metadata": {},
   "outputs": [],
   "source": [
    "#open with tables_io\n",
    "fname='/global/cscratch1/sd/qhang/DESC_DC2_obs-dr2/DC2_obj-sub-0.05-all-tracts-dered.fits'\n",
    "\n",
    "#inputdata = tables_io.read(fname)\n",
    "fin = fits.open(fname)"
   ]
  },
  {
   "cell_type": "code",
   "execution_count": 29,
   "id": "a67527ac-2baf-4b16-a41a-846c363abfd0",
   "metadata": {},
   "outputs": [],
   "source": [
    "from collections import OrderedDict"
   ]
  },
  {
   "cell_type": "code",
   "execution_count": 33,
   "id": "dfbdaf69-127f-47ce-aa5f-fa639f10e6b2",
   "metadata": {},
   "outputs": [],
   "source": [
    "keys = fin[1].columns.names"
   ]
  },
  {
   "cell_type": "code",
   "execution_count": 35,
   "id": "2aa1150e-e641-41fa-b028-36f2ea9350d7",
   "metadata": {},
   "outputs": [],
   "source": [
    "data = OrderedDict()\n",
    "\n",
    "for key in keys:\n",
    "    data[key] = fin[1].data[key]\n"
   ]
  },
  {
   "cell_type": "code",
   "execution_count": 38,
   "id": "4699ebba-247c-4cd6-8a6d-5018a98a6b0f",
   "metadata": {},
   "outputs": [
    {
     "name": "stdout",
     "output_type": "stream",
     "text": [
      "2217361\n",
      "1156413\n"
     ]
    }
   ],
   "source": [
    "#number of objects with imag<24.1?\n",
    "\n",
    "print(len(fin[1].data['mag_i_cModel_dered']))\n",
    "ind = fin[1].data['mag_i_cModel_dered']<24.1\n",
    "print(len(fin[1].data['mag_i_cModel_dered'][ind]))"
   ]
  },
  {
   "cell_type": "code",
   "execution_count": 36,
   "id": "2d4175eb-b277-498d-9878-fafa37bc5af0",
   "metadata": {},
   "outputs": [
    {
     "data": {
      "text/plain": [
       "OrderedDict([('tract', array([2724, 2726, 2896, ..., 5074, 5074, 5074])),\n",
       "             ('ra',\n",
       "              array([52.8255827 , 55.20033071, 49.80342739, ..., 70.61417247,\n",
       "                     70.65977073, 70.67849323])),\n",
       "             ('dec',\n",
       "              array([-44.6282278 , -44.6305967 , -44.62457398, ..., -26.99114607,\n",
       "                     -26.98669494, -26.97483743])),\n",
       "             ('redshift_truth',\n",
       "              array([0.34757888, 0.55571771, 0.65298444, ..., 0.67561525, 0.        ,\n",
       "                     0.        ])),\n",
       "             ('mag_u_cModel_dered',\n",
       "              array([        nan,         nan,         nan, ..., 24.2182114 ,\n",
       "                     23.92880274,         nan])),\n",
       "             ('mag_g_cModel_dered',\n",
       "              array([        nan,         nan,         nan, ..., 23.83676622,\n",
       "                             nan,         nan])),\n",
       "             ('mag_r_cModel_dered',\n",
       "              array([        nan,         nan,         nan, ...,         nan,\n",
       "                     23.46627214,         nan])),\n",
       "             ('mag_i_cModel_dered',\n",
       "              array([22.37415816, 20.82321332, 21.35589195, ..., 22.23718526,\n",
       "                     22.78336454, 22.14415636])),\n",
       "             ('mag_z_cModel_dered',\n",
       "              array([nan, nan, nan, ..., nan, nan, nan])),\n",
       "             ('mag_y_cModel_dered',\n",
       "              array([nan, nan, nan, ..., nan, nan, nan])),\n",
       "             ('magerr_u_cModel',\n",
       "              array([       nan,        nan,        nan, ..., 0.40193175, 0.34896418,\n",
       "                            nan])),\n",
       "             ('magerr_g_cModel',\n",
       "              array([       nan,        nan,        nan, ..., 0.14303249,        nan,\n",
       "                            nan])),\n",
       "             ('magerr_r_cModel',\n",
       "              array([       nan,        nan,        nan, ...,        nan, 0.12906917,\n",
       "                            nan])),\n",
       "             ('magerr_i_cModel',\n",
       "              array([0.10875255, 0.02613227, 0.03180271, ..., 0.07900253, 0.08906467,\n",
       "                     0.0490015 ])),\n",
       "             ('magerr_z_cModel', array([nan, nan, nan, ..., nan, nan, nan])),\n",
       "             ('magerr_y_cModel', array([nan, nan, nan, ..., nan, nan, nan]))])"
      ]
     },
     "execution_count": 36,
     "metadata": {},
     "output_type": "execute_result"
    }
   ],
   "source": [
    "data"
   ]
  },
  {
   "cell_type": "code",
   "execution_count": 42,
   "id": "ae903bed-aecd-4806-ac75-f15a55ce24b7",
   "metadata": {},
   "outputs": [],
   "source": [
    "DC2_data = DS.add_data(\"DC2_data\", data, TableHandle)"
   ]
  },
  {
   "cell_type": "code",
   "execution_count": 43,
   "id": "b7b12c32-f5b9-4637-9dc5-9402bc68c2e9",
   "metadata": {},
   "outputs": [
    {
     "data": {
      "text/plain": [
       "array([        nan,         nan,         nan, ..., 24.2182114 ,\n",
       "       23.92880274,         nan])"
      ]
     },
     "execution_count": 43,
     "metadata": {},
     "output_type": "execute_result"
    }
   ],
   "source": [
    "xx=DC2_data.data['mag_u_cModel_dered']\n",
    "xx"
   ]
  },
  {
   "cell_type": "code",
   "execution_count": 46,
   "id": "e6e5964d-f558-4e79-9276-b568480e37b9",
   "metadata": {},
   "outputs": [],
   "source": [
    "#mag limits for Y2 data will actually be shallower!  Should update those numbers rather than just copying the Y10 numbers!\n",
    "estimate_bpz = BPZ_lite.make_stage(name='estimate_bpz', hdf5_groupname='', columns_file=inroot+'bpz_run22i_dered.columns',\n",
    "                                   nondetect_val=np.nan, spectra_file='SED/dc2_templates_v4.list',\n",
    "                                  band_names=['mag_u_cModel_dered','mag_g_cModel_dered','mag_r_cModel_dered',\n",
    "                                              'mag_i_cModel_dered','mag_z_cModel_dered','mag_y_cModel_dered'],\n",
    "                                  band_err_names=['magerr_u_cModel','magerr_g_cModel','magerr_r_cModel',\n",
    "                                                  'magerr_i_cModel','magerr_z_cModel','magerr_y_cModel'],\n",
    "                                  prior_band='mag_i_cModel_dered',\n",
    "                                  mag_limits = dict(mag_u_cModel_dered=27.79,\n",
    "                                                    mag_g_cModel_dered=29.04,\n",
    "                                                    mag_r_cModel_dered=29.06,\n",
    "                                                    mag_i_cModel_dered=24.10, #changed the i-band limit\n",
    "                                                    mag_z_cModel_dered=27.98,\n",
    "                                                    mag_y_cModel_dered=27.05),\n",
    "                                  output=\"DC2_BPZ_run2.2i_dr2_qpens.hdf5\")"
   ]
  },
  {
   "cell_type": "code",
   "execution_count": null,
   "id": "f06eac90-e0f9-4f14-b686-cadc6be8aa0e",
   "metadata": {},
   "outputs": [],
   "source": [
    "bpz_estimated = estimate_bpz.estimate(DC2_data)"
   ]
  },
  {
   "cell_type": "code",
   "execution_count": null,
   "id": "2dd58080-3af1-4d99-b4cf-a75fb51e44d0",
   "metadata": {},
   "outputs": [],
   "source": [
    "bpz_estimated"
   ]
  },
  {
   "cell_type": "code",
   "execution_count": null,
   "id": "4c7e479a-6b25-49d9-bc24-95ac7b73b64e",
   "metadata": {},
   "outputs": [],
   "source": [
    "zmods = bpz_estimated.data.ancil['zmode']\n",
    "plt.hist(zmods,bins=np.linspace(0,3,101))"
   ]
  },
  {
   "cell_type": "code",
   "execution_count": null,
   "id": "77570d0b-bcc6-47c8-9664-1ad9a4389041",
   "metadata": {},
   "outputs": [],
   "source": []
  },
  {
   "cell_type": "code",
   "execution_count": null,
   "id": "dc0e2f03-2450-4419-b73b-c92d763b9dd6",
   "metadata": {},
   "outputs": [],
   "source": []
  }
 ],
 "metadata": {
  "kernelspec": {
   "display_name": "condarail",
   "language": "python",
   "name": "condarail"
  },
  "language_info": {
   "codemirror_mode": {
    "name": "ipython",
    "version": 3
   },
   "file_extension": ".py",
   "mimetype": "text/x-python",
   "name": "python",
   "nbconvert_exporter": "python",
   "pygments_lexer": "ipython3",
   "version": "3.9.12"
  }
 },
 "nbformat": 4,
 "nbformat_minor": 5
}
